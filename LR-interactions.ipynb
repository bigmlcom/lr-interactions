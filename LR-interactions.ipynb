{
 "cells": [
  {
   "cell_type": "markdown",
   "metadata": {},
   "source": [
    "# Exploring interaction effects with logistic regression\n",
    "\n",
    "After we train a logistic regression, we can look at the coefficients table to get an idea of how each individual predictor variable contributes to the outcome of the objective variable. For example, a large, positive coefficient indicates that the predictor greatly increases the log odds of the outcome. However, such an interpretation is under the assumption that the predictor variables act independently of each other. In many real-world cases, the value of one predictor will influence how another predictor contributes to the objective.\n",
    "\n",
    "In this notebook, we'll explore how to identify and quantify these interaction effects. The procedure followed here is also explained in Chapter 3 of the book [Applied Logistic Regression](http://www.wiley.com/WileyCDA/WileyTitle/productCd-0470582472.html) by Hosmer, Lemeshow, and Sturdivant. We have adapted that workflow to use the [BigML Python bindings](http://bigml.readthedocs.io/en/latest/).\n",
    "\n",
    "## The Data\n",
    "\n",
    "The data we will use in this example is the Wine Quality dataset, which is available in the UCI Machine Learning Dataset Repository [here](https://archive.ics.uci.edu/ml/datasets/Wine+Quality). Each row in this dataset contains physicochemical measurements from a particular sample of wine, along with a preference score assigned to that sample by a taster. Some minimal preprocessing was performed on the data. Specifically:\n",
    "\n",
    "- The original dataset is split into two CSV files for red (1599 instances), and white (4898 instances) wines. We concatenate the two CSV files to obtain a single dataset with 6497 instances. In addition we add a Categorical field called \"type\", which takes on the value 0 for white wines and 1 for red wines.\n",
    "- The original quality field is integer-valued betwee 0-10. We created an additional binary-valued field called \"good wine\" which is 1 if the quality is greater than or equal to 5, and 0 otherwise.\n",
    "\n",
    "\n",
    "Our analysis will be confined to two predictor variables:\n",
    "\n",
    "- Citric Acid: The wine's citric acid content in $\\textrm{g/dm}^3$. Numeric.\n",
    "- Type: Red or White wine. Categorical 0 = White, 1 = Red.\n",
    "\n",
    "We will model how these two predictors affect the probabiltiy of our objective:\n",
    "\n",
    "- Good Wine: Whether the wine received a quality score >= 5. Categorical 0 = No, 1 = Yes.\n",
    "\n",
    "## Setup\n",
    "\n",
    "To begin, we will import the BigML Python bindings, matplotlib for plotting, and a couple utility functions for handling logistic regression coefficients. We'll also create a BigML project to keep our resources organized."
   ]
  },
  {
   "cell_type": "code",
   "execution_count": 1,
   "metadata": {
    "collapsed": false
   },
   "outputs": [],
   "source": [
    "from bigml.api import BigML\n",
    "import matplotlib\n",
    "from matplotlib import pyplot\n",
    "from numpy import *\n",
    "from myutils import print_coeff_table\n",
    "\n",
    "%matplotlib inline\n",
    "matplotlib.rcParams['font.size'] = 16\n",
    "\n",
    "api = BigML()\n",
    "\n",
    "prj = api.create_project({'name' : 'lr-interactions'})\n",
    "prj = prj['resource']"
   ]
  },
  {
   "cell_type": "markdown",
   "metadata": {},
   "source": [
    "## Dataset Creation\n",
    "\n",
    "Now we will upload the CSV file containing the NHANES data to BigML, and create a dataset. We will then split the dataset 80/20 into training and test sets for later evaluation. Using a fixed seed ensures that we get complementary samples."
   ]
  },
  {
   "cell_type": "code",
   "execution_count": 2,
   "metadata": {
    "collapsed": false
   },
   "outputs": [
    {
     "data": {
      "text/plain": [
       "True"
      ]
     },
     "execution_count": 2,
     "metadata": {},
     "output_type": "execute_result"
    }
   ],
   "source": [
    "src = api.create_source('winequality-all.csv', {'project' : prj})\n",
    "\n",
    "origin_dataset = api.create_dataset(src, {'project': prj})\n",
    "\n",
    "training_dataset = api.create_dataset(origin_dataset, {'project' : prj,\n",
    "                                                       'name' : 'Wine Quality Training Set',\n",
    "                                                       'sample_rate' : 0.8,\n",
    "                                                       'seed' : 'example-seed'})\n",
    "test_dataset = api.create_dataset(origin_dataset, {'project' : prj,\n",
    "                                                   'name' : 'Wine Quality Test Set',\n",
    "                                                   'sample_rate' : 0.8,\n",
    "                                                   'out_of_bag' : True,\n",
    "                                                   'seed' : 'example-seed'})\n",
    "api.ok(training_dataset)"
   ]
  },
  {
   "cell_type": "markdown",
   "metadata": {},
   "source": [
    "## Model 1 - type only\n",
    "\n",
    "Our first logistic regression model will assess what effect being a red wine (`type` = 1) has on receiving a good quality score (`good wine` = 1). We will code the categorical field `type` with dummy coding, with 0 as the dummy value. As a result we will obtain only one coefficient which gives the odds of `good wine=1` with `type=1`, compared to `type=0`."
   ]
  },
  {
   "cell_type": "code",
   "execution_count": 3,
   "metadata": {
    "collapsed": false
   },
   "outputs": [
    {
     "name": "stdout",
     "output_type": "stream",
     "text": [
      "\n",
      "Predictor\t\t Coefficient\t p-value\t 95% Confidence Interval\n",
      "--------------------------------------------------------------------------------\n",
      "Intercept\t\t 0.66944\t 0.00000\t [0.60299, 0.73590]\n",
      "type\t\t\t -0.53509\t 0.00000\t [-0.66226, -0.40792]\n"
     ]
    }
   ],
   "source": [
    "lr_opts = {'project' : prj, 'objective_field' : 'good wine', \n",
    "           'field_codings' : [{'field' : 'type', 'coding' : 'dummy', \n",
    "                               'dummy_class' : '0'}], \n",
    "           'balance_fields' : False,\n",
    "           'input_fields' : ['type'],\n",
    "           'name' : 'Wine quality logistic regression - type only'}\n",
    "\n",
    "lr1 = api.create_logistic_regression(training_dataset, lr_opts)\n",
    "api.ok(lr1)\n",
    "coeffs1,pvals1,confs1 = print_coeff_table(lr1)"
   ]
  },
  {
   "cell_type": "markdown",
   "metadata": {},
   "source": [
    "The coefficient for `type` is significant ($p < 0.05$), and negative, meaning that `type` is negatively associated with `good wine`. The log odds of `good wine` is given by the following logit:\n",
    "\n",
    "\\begin{equation}\n",
    "\\ln(o) = \\beta_0 + \\beta_1 x_1\n",
    "\\end{equation}\n",
    "\n",
    "Where $x_1$ is the variable corresponding to `type`, taking on values 0 or 1. We might ask how much less likely a good score is to be awarded, given that a red wine is being tested. We can compute the *odds ratio* like so:\n",
    "\n",
    "\\begin{equation}\n",
    "OR = \\frac{o_1}{o_1}\\qquad \\textrm{or} \\qquad \\ln(OR) = \\ln(o_1) - \\ln(o_0)\n",
    "\\end{equation}"
   ]
  },
  {
   "cell_type": "code",
   "execution_count": 4,
   "metadata": {
    "collapsed": false
   },
   "outputs": [
    {
     "name": "stdout",
     "output_type": "stream",
     "text": [
      "0.585615359156\n"
     ]
    }
   ],
   "source": [
    "log_o1 = coeffs1[0] + coeffs1[1]*1\n",
    "log_o0 = coeffs1[0] + coeffs1[1]*0\n",
    "log_or = log_o1 - log_o0\n",
    "odds_ratio = exp(log_or)\n",
    "print(odds_ratio)"
   ]
  },
  {
   "cell_type": "markdown",
   "metadata": {},
   "source": [
    "In other words, the odds for red wines to receive good quality scores is less than 60% as likely as the odds for white wines. We can also see this by computing the explicit probability of a good score, which is given by the logistic function:\n",
    "\n",
    "\\begin{equation}\n",
    "P = \\frac{1}{1 + \\exp(-(\\beta_0 + \\beta_1 x_1))} \n",
    "\\end{equation}\n",
    "\n",
    "In terms of probabilities the odds ratio is defined as:\n",
    "\n",
    "\\begin{equation}\n",
    "OR = \\frac{\\frac{P_1}{(1 - P_1)}}{\\frac{P_0}{(1 - P_0)}}\n",
    "\\end{equation}"
   ]
  },
  {
   "cell_type": "code",
   "execution_count": 5,
   "metadata": {
    "collapsed": false
   },
   "outputs": [
    {
     "name": "stdout",
     "output_type": "stream",
     "text": [
      "0.53353777006\n"
     ]
    }
   ],
   "source": [
    "p1 = 1 / (1 + exp(-log_o1))\n",
    "print(p1)"
   ]
  },
  {
   "cell_type": "code",
   "execution_count": 6,
   "metadata": {
    "collapsed": false
   },
   "outputs": [
    {
     "name": "stdout",
     "output_type": "stream",
     "text": [
      "0.661378852184\n"
     ]
    }
   ],
   "source": [
    "p0 = 1 / (1 + exp(-log_o0))\n",
    "print(p0)"
   ]
  },
  {
   "cell_type": "code",
   "execution_count": 7,
   "metadata": {
    "collapsed": false
   },
   "outputs": [
    {
     "name": "stdout",
     "output_type": "stream",
     "text": [
      "0.585615359156\n"
     ]
    }
   ],
   "source": [
    "odds_ratio_by_probs = (p1/(1-p1)) / (p0/(1-p0))\n",
    "print(odds_ratio_by_probs)"
   ]
  },
  {
   "cell_type": "markdown",
   "metadata": {},
   "source": [
    "## Model 2 - type + citric acid\n",
    "\n",
    "We will now add a second predictor, citric acid, to our logistic regression model:"
   ]
  },
  {
   "cell_type": "code",
   "execution_count": 8,
   "metadata": {
    "collapsed": false
   },
   "outputs": [
    {
     "name": "stdout",
     "output_type": "stream",
     "text": [
      "\n",
      "Predictor\t\t Coefficient\t p-value\t 95% Confidence Interval\n",
      "--------------------------------------------------------------------------------\n",
      "Intercept\t\t 0.44427\t 0.00000\t [0.29691, 0.59163]\n",
      "type\t\t\t -0.49400\t 0.00000\t [-0.62365, -0.36435]\n",
      "citric acid\t\t 0.67764\t 0.00083\t [0.28042, 1.07485]\n"
     ]
    }
   ],
   "source": [
    "lr_opts['input_fields'].append('citric acid')\n",
    "lr_opts['name'] = 'Wine Quality Logistic Regression - type + citric acid'\n",
    "lr2 = api.create_logistic_regression(training_dataset,lr_opts)\n",
    "api.ok(lr2)\n",
    "coeffs2,pvals2,confs2 = print_coeff_table(lr2)"
   ]
  },
  {
   "cell_type": "markdown",
   "metadata": {},
   "source": [
    "Again, the log-odds for `good score` is given by a logit:\n",
    "    \n",
    "\\begin{equation}\n",
    "\\ln(o) = \\beta_0 + \\beta_1 x_1 + \\beta_2 x_2\n",
    "\\end{equation}\n",
    "\n",
    "We now have a second coefficient corresponding to the predictor variable $x_2$: the concentration of citric acid in the wine. Let's look at the log-odds as a function of citric acid, for both red and white wines:\n"
   ]
  },
  {
   "cell_type": "code",
   "execution_count": 9,
   "metadata": {
    "collapsed": false
   },
   "outputs": [
    {
     "data": {
      "text/plain": [
       "<matplotlib.legend.Legend at 0x7f529200da90>"
      ]
     },
     "execution_count": 9,
     "metadata": {},
     "output_type": "execute_result"
    },
    {
     "data": {
      "image/png": "[encoded data removed]",
      "text/plain": [
       "<matplotlib.figure.Figure at 0x7f52920290b8>"
      ]
     },
     "metadata": {},
     "output_type": "display_data"
    }
   ],
   "source": [
    "# evaluate the logit function at type = 0 and type = 1 for a range of citric acid values\n",
    "xvals = linspace(0.0,1.66)\n",
    "log_odds_0 = coeffs2[0] + coeffs2[1]*0 + coeffs2[2]*xvals\n",
    "log_odds_1 = coeffs2[0] + coeffs2[1]*1 + coeffs2[2]*xvals\n",
    "\n",
    "# plot the results\n",
    "pyplot.figure(figsize=(10,6))\n",
    "pyplot.plot(xvals,log_odds_0)\n",
    "pyplot.plot(xvals,log_odds_1)\n",
    "pyplot.xlabel('Citric Acid (g/dm^3)')\n",
    "pyplot.ylabel('log odds for good score')\n",
    "pyplot.legend(['type = 0', 'type = 1'],loc='upper left')"
   ]
  },
  {
   "cell_type": "markdown",
   "metadata": {},
   "source": [
    "Although different combinations of `type` and `citric acid` will result in different values for the log-odds, this plot shows that the two predictors in this model are *independent* of each other. Specifically, the log-odds is a linear function of citric acid, and the slope of that function is the same for both values of `type`. This shows that the effect of `citric acid` on the log-odds is independent of `type`. At the same time, for any value of `citric acid`, the vertical distance between the two lines is the same, showing that the effect of `type` on the log-odds is independent of `citric acid`.\n",
    "\n",
    "There are many cases when this independence assumption does not faithfully model the behavior of the data. To see whether that might be the case here, we will see how much the value of the `type` coefficient changed through the addition of `citric acid` as a predictor:"
   ]
  },
  {
   "cell_type": "code",
   "execution_count": 10,
   "metadata": {
    "collapsed": false
   },
   "outputs": [
    {
     "name": "stdout",
     "output_type": "stream",
     "text": [
      "0.08318532814552569\n"
     ]
    }
   ],
   "source": [
    "delta_b1 = abs((coeffs2[1] - coeffs1[1]) / coeffs2[1])\n",
    "print(delta_b1)"
   ]
  },
  {
   "cell_type": "markdown",
   "metadata": {},
   "source": [
    "With a change of nearly 10%, we are justified in believing that there may be *interaction effects* between the two predictor variables. Our third logistic regression model will investigate this hypothesis.\n",
    "\n",
    "## Model 3 - type + citric acid with Interaction\n",
    "\n",
    "To model interaction effects, we will extend our training dataset with an additional field containing an interaction term. Interaction terms are simply the product of the values of two predictor variables. We apply the same extension to the test dataset for later evaluation."
   ]
  },
  {
   "cell_type": "code",
   "execution_count": 11,
   "metadata": {
    "collapsed": false
   },
   "outputs": [
    {
     "data": {
      "text/plain": [
       "True"
      ]
     },
     "execution_count": 11,
     "metadata": {},
     "output_type": "execute_result"
    }
   ],
   "source": [
    "flatline_str = '(* (f \"citric acid\") (integer (f type)))'\n",
    "training_ds_extended = api.create_dataset(training_dataset, {'new_fields':[{'field' : flatline_str,\n",
    "                                                             'name' : 'citric acid*type'}]})\n",
    "test_ds_extended = api.create_dataset(test_dataset, {'new_fields':[{'field' : flatline_str,\n",
    "                                                                     'name' : 'citric acid*type'}]})\n",
    "api.ok(training_ds_extended)"
   ]
  },
  {
   "cell_type": "markdown",
   "metadata": {},
   "source": [
    "Now, we will train a logistic regression with the two predictors `type` and `citric acid`, and their interaction term `citric acid*type`."
   ]
  },
  {
   "cell_type": "code",
   "execution_count": 12,
   "metadata": {
    "collapsed": false
   },
   "outputs": [
    {
     "name": "stdout",
     "output_type": "stream",
     "text": [
      "\n",
      "Predictor\t\t Coefficient\t p-value\t 95% Confidence Interval\n",
      "--------------------------------------------------------------------------------\n",
      "Intercept\t\t 0.64898\t 0.00000\t [0.45381, 0.84415]\n",
      "type\t\t\t -0.88613\t 0.00000\t [-1.15713, -0.61513]\n",
      "citric acid\t\t 0.06009\t 0.83021\t [-0.48915, 0.60933]\n",
      "citric acid*type\t 1.31815\t 0.00111\t [0.52613, 2.11018]\n"
     ]
    }
   ],
   "source": [
    "lr_opts['input_fields'].append('citric acid*type')\n",
    "lr_opts['name'] = 'Wine Quality Logistic Regression: type + citric acid + interaction'\n",
    "lr3 = api.create_logistic_regression(training_ds_extended,lr_opts)\n",
    "api.ok(lr3)\n",
    "\n",
    "coeffs3,pvals3,confs3 = print_coeff_table(lr3)"
   ]
  },
  {
   "cell_type": "code",
   "execution_count": 13,
   "metadata": {
    "collapsed": false
   },
   "outputs": [
    {
     "data": {
      "text/plain": [
       "<matplotlib.legend.Legend at 0x7f5291f39550>"
      ]
     },
     "execution_count": 13,
     "metadata": {},
     "output_type": "execute_result"
    },
    {
     "data": {
      "image/png": "[encoded data removed]",
      "text/plain": [
       "<matplotlib.figure.Figure at 0x7f5291e2a208>"
      ]
     },
     "metadata": {},
     "output_type": "display_data"
    }
   ],
   "source": [
    "log_odds_0 = coeffs3[0] + coeffs3[1]*0 + coeffs3[2]*xvals + coeffs3[3]*0*xvals\n",
    "log_odds_1 = coeffs3[0] + coeffs3[1]*1 + coeffs3[2]*xvals + coeffs3[3]*1*xvals\n",
    "\n",
    "# plot the results\n",
    "pyplot.figure(figsize=(10,6))\n",
    "pyplot.plot(xvals,log_odds_0)\n",
    "pyplot.plot(xvals,log_odds_1)\n",
    "pyplot.xlabel('Citric Acid (g/dm^3)')\n",
    "pyplot.ylabel('log odds for good score')\n",
    "pyplot.legend(['type = 0', 'type = 1'],loc='upper left')"
   ]
  },
  {
   "cell_type": "markdown",
   "metadata": {},
   "source": [
    "The graph here is drastically different from the one for the independent logistic regression model. We can see that for both types of wine, the odds for `good wine` continue to be positively correlated with `citric acid`, but the impact is much greater for red wines compared to white wines. In fact, if we look at the p-values in the coefficient table, we see that the interaction term between `type` and `citric acid` is significant, but the one for `citric acid` alone is no longer significant. From this, we can conclude that `citric acid` is a significant predictor of quality only for red wines.\n",
    "\n",
    "## Evaluations\n",
    "\n",
    "Now we will take our three logistic regression models, evaluate them against our 20% holdout test set, and plot their average F-measures."
   ]
  },
  {
   "cell_type": "code",
   "execution_count": 14,
   "metadata": {
    "collapsed": false
   },
   "outputs": [
    {
     "data": {
      "text/plain": [
       "<matplotlib.text.Text at 0x7f5291f57908>"
      ]
     },
     "execution_count": 14,
     "metadata": {},
     "output_type": "execute_result"
    },
    {
     "data": {
      "image/png": "[encoded data removed]",
      "text/plain": [
       "<matplotlib.figure.Figure at 0x7f5291f73eb8>"
      ]
     },
     "metadata": {},
     "output_type": "display_data"
    }
   ],
   "source": [
    "eval1 = api.create_evaluation(lr1,test_ds_extended)\n",
    "eval2 = api.create_evaluation(lr2,test_ds_extended)\n",
    "eval3 = api.create_evaluation(lr3,test_ds_extended)\n",
    "\n",
    "api.ok(eval1)\n",
    "api.ok(eval2)\n",
    "api.ok(eval3)\n",
    "\n",
    "f1,f2,f3 = [e['object']['result']['model']['average_f_measure'] for e in [eval1,eval2,eval3]]\n",
    "\n",
    "pyplot.figure(figsize=(10,6))\n",
    "pyplot.bar([1,2,3],[f1,f2,f3],align='center')\n",
    "pyplot.xticks([1,2,3],['Type', 'Type+CA', 'Type+CA+Interaction'])\n",
    "pyplot.xlabel('Predictors')\n",
    "pyplot.ylabel('Average F-Measure')"
   ]
  },
  {
   "cell_type": "markdown",
   "metadata": {},
   "source": [
    "Our results show that the model which includes the interaction term achieves the best classification performance. In conclusion, not only does identifying interactions between predictor variables give a deeper insight into the behavior of your data, but it can produce better models for predictive applications too."
   ]
  },
  {
   "cell_type": "code",
   "execution_count": 15,
   "metadata": {
    "collapsed": false
   },
   "outputs": [],
   "source": [
    "# uncomment and run this cell to clean up resources generated by this notebook\n",
    "\n",
    "#for p in api.list_projects('name=lr-interactions')['objects']:\n",
    "#        api.delete_project(p)"
   ]
  }
 ],
 "metadata": {
  "kernelspec": {
   "display_name": "Python 3",
   "language": "python",
   "name": "python3"
  },
  "language_info": {
   "codemirror_mode": {
    "name": "ipython",
    "version": 3
   },
   "file_extension": ".py",
   "mimetype": "text/x-python",
   "name": "python",
   "nbconvert_exporter": "python",
   "pygments_lexer": "ipython3",
   "version": "3.5.2"
  }
 },
 "nbformat": 4,
 "nbformat_minor": 0
}
